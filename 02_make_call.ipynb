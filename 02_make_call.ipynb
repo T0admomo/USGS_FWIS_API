{
 "cells": [
  {
   "cell_type": "code",
   "execution_count": 50,
   "id": "b673f97e-793b-477b-80e4-9585aff979d7",
   "metadata": {},
   "outputs": [],
   "source": [
    "import requests\n",
    "import re"
   ]
  },
  {
   "cell_type": "code",
   "execution_count": 45,
   "id": "55cc6252-b0e1-408f-a2a3-10175670ff53",
   "metadata": {},
   "outputs": [],
   "source": [
    "url = 'https://waterservices.usgs.gov/nwis/iv/?format=json&sites=07079300&parameterCd=00060,00065&siteStatus=all'"
   ]
  },
  {
   "cell_type": "code",
   "execution_count": 46,
   "id": "5183053d-fef0-434c-b6da-bdf9f14f71c2",
   "metadata": {},
   "outputs": [],
   "source": [
    "class SurfaceWaterSite():\n",
    "    \n",
    "    def __init__(self)\n",
    "    "
   ]
  },
  {
   "cell_type": "code",
   "execution_count": 47,
   "id": "b943d697-ee4c-4620-a15a-3966c4dc66d8",
   "metadata": {},
   "outputs": [],
   "source": [
    "test = _Json_call(url)"
   ]
  },
  {
   "cell_type": "code",
   "execution_count": 48,
   "id": "6d91dbb5-9659-470f-85b2-92bddcae8589",
   "metadata": {},
   "outputs": [
    {
     "data": {
      "text/plain": [
       "[{'value': '00060',\n",
       "  'network': 'NWIS',\n",
       "  'vocabulary': 'NWIS:UnitValues',\n",
       "  'variableID': 45807197,\n",
       "  'default': True}]"
      ]
     },
     "execution_count": 48,
     "metadata": {},
     "output_type": "execute_result"
    }
   ],
   "source": [
    "test.sensor_data[0]['variable']['variableCode']"
   ]
  },
  {
   "cell_type": "code",
   "execution_count": 52,
   "id": "812e134f-ab8a-4431-966d-7ae524d76bd5",
   "metadata": {},
   "outputs": [
    {
     "name": "stdout",
     "output_type": "stream",
     "text": [
      "  % Total    % Received % Xferd  Average Speed   Time    Time     Time  Current\n",
      "                                 Dload  Upload   Total   Spent    Left  Speed\n",
      "100  3903    0  3903    0     0  10137      0 --:--:-- --:--:-- --:--:-- 10111\n"
     ]
    }
   ],
   "source": [
    "!curl -o example.csv 'https://waterservices.usgs.gov/nwis/iv/?format=json&sites=07079300&parameterCd=00060,00065&siteStatus=all'"
   ]
  },
  {
   "cell_type": "code",
   "execution_count": 36,
   "id": "5ea6c419-e837-4116-82e8-508b153439f8",
   "metadata": {},
   "outputs": [
    {
     "ename": "TypeError",
     "evalue": "list indices must be integers or slices, not str",
     "output_type": "error",
     "traceback": [
      "\u001b[0;31m---------------------------------------------------------------------------\u001b[0m",
      "\u001b[0;31mTypeError\u001b[0m                                 Traceback (most recent call last)",
      "\u001b[0;32m<ipython-input-36-21a149887686>\u001b[0m in \u001b[0;36m<module>\u001b[0;34m\u001b[0m\n\u001b[0;32m----> 1\u001b[0;31m \u001b[0mthis\u001b[0m\u001b[0;34m[\u001b[0m\u001b[0;36m5\u001b[0m\u001b[0;34m:\u001b[0m\u001b[0;34m]\u001b[0m\u001b[0;34m[\u001b[0m\u001b[0;34m'name'\u001b[0m\u001b[0;34m]\u001b[0m\u001b[0;34m\u001b[0m\u001b[0;34m\u001b[0m\u001b[0m\n\u001b[0m",
      "\u001b[0;31mTypeError\u001b[0m: list indices must be integers or slices, not str"
     ]
    }
   ],
   "source": []
  },
  {
   "cell_type": "code",
   "execution_count": null,
   "id": "014688b2-78c9-4de9-9cd2-4c19d18694df",
   "metadata": {},
   "outputs": [],
   "source": []
  }
 ],
 "metadata": {
  "kernelspec": {
   "display_name": "Python 3",
   "language": "python",
   "name": "python3"
  },
  "language_info": {
   "codemirror_mode": {
    "name": "ipython",
    "version": 3
   },
   "file_extension": ".py",
   "mimetype": "text/x-python",
   "name": "python",
   "nbconvert_exporter": "python",
   "pygments_lexer": "ipython3",
   "version": "3.8.2"
  }
 },
 "nbformat": 4,
 "nbformat_minor": 5
}
