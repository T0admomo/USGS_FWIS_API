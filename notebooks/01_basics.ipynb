{
 "cells": [
  {
   "cell_type": "markdown",
   "id": "35cfddc5-6c68-453a-8815-34fbd01824fa",
   "metadata": {},
   "source": [
    "# USGS API\n",
    "___\n",
    "___"
   ]
  },
  {
   "cell_type": "markdown",
   "id": "ff7e8568-7cbe-44ac-993a-7b5d9ddefaca",
   "metadata": {},
   "source": [
    "The USGS API provides access to thousands of surface and groundwater observation sites. The below link is to a USGS tool that generates an appropriate REST API call for the given info. Use the '?' info markers to learn more about the fields needed to make a request, including Sitecode's and HUD's.\n",
    "\n",
    "https://waterservices.usgs.gov/rest/IV-Test-Tool.html\n"
   ]
  },
  {
   "cell_type": "markdown",
   "id": "8c28acff-8cf9-4055-8d5b-fc7f4ece5ad8",
   "metadata": {},
   "source": [
    "| code | item |\n",
    "|---|---|\n",
    "| 07079300 | Site Number |\n",
    "| 00060 | Discharge |\n",
    "| 00065 | Gage Height |\n"
   ]
  },
  {
   "cell_type": "markdown",
   "id": "ffc45854-b723-4909-b036-6255cc1dbd33",
   "metadata": {},
   "source": [
    "Our API call is contructed from to return data in JSON format for the site number listed above. The paramaters requested from the site are likewise included and listed above. period=P1D indicates a request for all data within 1 day of the current time."
   ]
  },
  {
   "cell_type": "code",
   "execution_count": 1,
   "id": "b538d3b6-3bbc-4da7-a9a8-31b8692a6af6",
   "metadata": {},
   "outputs": [],
   "source": [
    "import requests\n",
    "from bs4 import BeautifulSoup\n",
    "import pandas as pd\n",
    "\n",
    "def _call(url):\n",
    "    return requests.get(url)\n",
    "\n"
   ]
  },
  {
   "cell_type": "code",
   "execution_count": 2,
   "id": "28c5deb0-9171-4607-b5cf-9f8295c1c3be",
   "metadata": {},
   "outputs": [],
   "source": [
    "sites = ['07079300']\n",
    "paramCodes = ['00060','00065']"
   ]
  },
  {
   "cell_type": "code",
   "execution_count": 3,
   "id": "0e456553-0b66-4946-88bd-a400a328de70",
   "metadata": {},
   "outputs": [
    {
     "name": "stdout",
     "output_type": "stream",
     "text": [
      "Imported fwis_api module\n"
     ]
    }
   ],
   "source": [
    "from sensor import fwis_api\n"
   ]
  },
  {
   "cell_type": "code",
   "execution_count": 4,
   "id": "11055be7-cd11-48f4-a72f-fcb8d2c76c76",
   "metadata": {},
   "outputs": [
    {
     "data": {
      "text/plain": [
       "'https://waterservices.usgs.gov/nwis/iv/?format=json&sites=07079300&parameterCd=00060,00065&siteStatus=All'"
      ]
     },
     "execution_count": 4,
     "metadata": {},
     "output_type": "execute_result"
    }
   ],
   "source": [
    "fwis_api.format_api_req(siteCode=sites[0],paramCodes = paramCodes)"
   ]
  },
  {
   "cell_type": "code",
   "execution_count": 5,
   "id": "4e991aca-f488-4621-a5ae-69c58a88c094",
   "metadata": {},
   "outputs": [],
   "source": [
    "url = 'https://waterservices.usgs.gov/nwis/iv/?format=json&sites=07079300&period=P1D&parameterCd=00060,00065&siteStatus=all'"
   ]
  },
  {
   "cell_type": "code",
   "execution_count": 10,
   "id": "fecfd6ea-ee38-4f0f-affd-5e5f36b9465a",
   "metadata": {},
   "outputs": [],
   "source": [
    "this = _call(url).json()"
   ]
  },
  {
   "cell_type": "code",
   "execution_count": 11,
   "id": "0ba85859-c4ec-4b35-bcc4-fda5ce357240",
   "metadata": {},
   "outputs": [
    {
     "data": {
      "text/plain": [
       "dict_keys(['name', 'declaredType', 'scope', 'value', 'nil', 'globalScope', 'typeSubstituted'])"
      ]
     },
     "execution_count": 11,
     "metadata": {},
     "output_type": "execute_result"
    }
   ],
   "source": [
    "this.keys()"
   ]
  },
  {
   "cell_type": "code",
   "execution_count": 12,
   "id": "dca98474-c376-4f47-9d9f-4c36994ce5c1",
   "metadata": {},
   "outputs": [
    {
     "data": {
      "text/plain": [
       "{'value': '35.9',\n",
       " 'qualifiers': ['P'],\n",
       " 'dateTime': '2021-08-19T16:15:00.000-06:00'}"
      ]
     },
     "execution_count": 12,
     "metadata": {},
     "output_type": "execute_result"
    }
   ],
   "source": [
    "this['value']['timeSeries'][0]['values'][0]['value'][-1]"
   ]
  },
  {
   "cell_type": "markdown",
   "id": "8d1c3c0b-5e06-4b4e-b4ca-a8169620d20d",
   "metadata": {},
   "source": [
    "## Read"
   ]
  },
  {
   "cell_type": "code",
   "execution_count": 9,
   "id": "d736e287-5aec-4074-8145-5abed66d85dd",
   "metadata": {},
   "outputs": [
    {
     "ename": "NameError",
     "evalue": "name 'json' is not defined",
     "output_type": "error",
     "traceback": [
      "\u001b[0;31m---------------------------------------------------------------------------\u001b[0m",
      "\u001b[0;31mNameError\u001b[0m                                 Traceback (most recent call last)",
      "\u001b[0;32m<ipython-input-9-09849ba8e98e>\u001b[0m in \u001b[0;36m<module>\u001b[0;34m\u001b[0m\n\u001b[0;32m----> 1\u001b[0;31m \u001b[0mfile\u001b[0m \u001b[0;34m=\u001b[0m \u001b[0mjson\u001b[0m\u001b[0;34m.\u001b[0m\u001b[0mload\u001b[0m\u001b[0;34m(\u001b[0m\u001b[0mopen\u001b[0m\u001b[0;34m(\u001b[0m\u001b[0;34m'test.json'\u001b[0m\u001b[0;34m)\u001b[0m\u001b[0;34m)\u001b[0m\u001b[0;34m\u001b[0m\u001b[0;34m\u001b[0m\u001b[0m\n\u001b[0m\u001b[1;32m      2\u001b[0m \u001b[0mfile\u001b[0m\u001b[0;34m\u001b[0m\u001b[0;34m\u001b[0m\u001b[0m\n",
      "\u001b[0;31mNameError\u001b[0m: name 'json' is not defined"
     ]
    }
   ],
   "source": [
    "file = json.load(open('test.json'))\n",
    "file"
   ]
  },
  {
   "cell_type": "markdown",
   "id": "b2ca187f-665c-4465-8df3-0a6a5cc88581",
   "metadata": {},
   "source": [
    "## Logic Check \n",
    "Check is a file exists "
   ]
  },
  {
   "cell_type": "code",
   "execution_count": null,
   "id": "a6ffc436-3599-458c-835a-b4f18006016c",
   "metadata": {},
   "outputs": [],
   "source": [
    "fname = 'test.json'\n",
    "import os.path\n",
    "os.path.isfile(fname) "
   ]
  },
  {
   "cell_type": "code",
   "execution_count": null,
   "id": "1f3a2294-1bf4-4515-8e32-cff43885659f",
   "metadata": {},
   "outputs": [],
   "source": [
    "def write_json(data, filename):\n",
    "    with open(filename, 'w') as file:\n",
    "        json.dump(data, file, indent = 4)\n",
    "        file.close()\n",
    "path_name = 'test.json'\n",
    "write_json(new_data, path_name)"
   ]
  }
 ],
 "metadata": {
  "kernelspec": {
   "display_name": "Python 3",
   "language": "python",
   "name": "python3"
  },
  "language_info": {
   "codemirror_mode": {
    "name": "ipython",
    "version": 3
   },
   "file_extension": ".py",
   "mimetype": "text/x-python",
   "name": "python",
   "nbconvert_exporter": "python",
   "pygments_lexer": "ipython3",
   "version": "3.8.8"
  }
 },
 "nbformat": 4,
 "nbformat_minor": 5
}
