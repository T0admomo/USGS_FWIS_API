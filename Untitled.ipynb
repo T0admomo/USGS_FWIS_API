{
 "cells": [
  {
   "cell_type": "code",
   "execution_count": 1,
   "id": "0627d7e2-3739-4831-bb35-736bb42cdea9",
   "metadata": {},
   "outputs": [
    {
     "name": "stderr",
     "output_type": "stream",
     "text": [
      "<ipython-input-1-abd3ca1b1944>:11: UserWarning: Matplotlib is currently using module://ipykernel.pylab.backend_inline, which is a non-GUI backend, so cannot show the figure.\n",
      "  fig.show()\n"
     ]
    },
    {
     "ename": "KeyboardInterrupt",
     "evalue": "",
     "output_type": "error",
     "traceback": [
      "\u001b[0;31m---------------------------------------------------------------------------\u001b[0m",
      "\u001b[0;31mKeyboardInterrupt\u001b[0m                         Traceback (most recent call last)",
      "\u001b[0;32m<ipython-input-1-abd3ca1b1944>\u001b[0m in \u001b[0;36m<module>\u001b[0;34m\u001b[0m\n\u001b[1;32m     20\u001b[0m     \u001b[0max\u001b[0m\u001b[0;34m.\u001b[0m\u001b[0mplot\u001b[0m\u001b[0;34m(\u001b[0m\u001b[0mx\u001b[0m\u001b[0;34m,\u001b[0m\u001b[0my\u001b[0m\u001b[0;34m,\u001b[0m \u001b[0mcolor\u001b[0m \u001b[0;34m=\u001b[0m \u001b[0;34m'b'\u001b[0m\u001b[0;34m)\u001b[0m\u001b[0;34m\u001b[0m\u001b[0;34m\u001b[0m\u001b[0m\n\u001b[1;32m     21\u001b[0m     \u001b[0mfig\u001b[0m\u001b[0;34m.\u001b[0m\u001b[0mcanvas\u001b[0m\u001b[0;34m.\u001b[0m\u001b[0mdraw\u001b[0m\u001b[0;34m(\u001b[0m\u001b[0;34m)\u001b[0m\u001b[0;34m\u001b[0m\u001b[0;34m\u001b[0m\u001b[0m\n\u001b[0;32m---> 22\u001b[0;31m     \u001b[0mtime\u001b[0m\u001b[0;34m.\u001b[0m\u001b[0msleep\u001b[0m\u001b[0;34m(\u001b[0m\u001b[0;36m1\u001b[0m\u001b[0;34m)\u001b[0m\u001b[0;34m\u001b[0m\u001b[0;34m\u001b[0m\u001b[0m\n\u001b[0m\u001b[1;32m     23\u001b[0m     \u001b[0mi\u001b[0m\u001b[0;34m+=\u001b[0m \u001b[0;36m1\u001b[0m\u001b[0;34m\u001b[0m\u001b[0;34m\u001b[0m\u001b[0m\n",
      "\u001b[0;31mKeyboardInterrupt\u001b[0m: "
     ]
    },
    {
     "data": {
      "image/png": "[encoded data removed]",
      "text/plain": [
       "<Figure size 432x288 with 1 Axes>"
      ]
     },
     "metadata": {
      "needs_background": "light"
     },
     "output_type": "display_data"
    }
   ],
   "source": [
    "import time\n",
    "import psutil\n",
    "import matplotlib.pyplot as plt\n",
    "\n",
    "# %matplotlib notebook\n",
    "plt.rcParams['animation.html'] = 'jshtml'\n",
    "\n",
    "\n",
    "fig = plt.figure()\n",
    "ax = fig.add_subplot(111)\n",
    "fig.show()\n",
    "\n",
    "i = 0 \n",
    "x, y = [], []\n",
    "\n",
    "while True:\n",
    "    x.append(i)\n",
    "    y.append(psutil.cpu_percent())\n",
    "    \n",
    "    ax.plot(x,y, color = 'b')\n",
    "    fig.canvas.draw()\n",
    "    time.sleep(1)\n",
    "    i+= 1"
   ]
  },
  {
   "cell_type": "code",
   "execution_count": 2,
   "id": "5ff7654c-1273-44d5-9577-a67b0137cc2b",
   "metadata": {},
   "outputs": [
    {
     "name": "stdout",
     "output_type": "stream",
     "text": [
      "Imported fwis_api module\n"
     ]
    }
   ],
   "source": [
    "from sensor import StreamSensor\n",
    "from sensor import fwis_api"
   ]
  },
  {
   "cell_type": "code",
   "execution_count": 3,
   "id": "10464af3-7daa-458e-a72f-eb3d4019526b",
   "metadata": {},
   "outputs": [],
   "source": [
    "headwaters = StreamSensor('07079300', ['00060','00065'])"
   ]
  },
  {
   "cell_type": "code",
   "execution_count": 4,
   "id": "0b93e613-3937-45f0-a51c-07eabaf72a97",
   "metadata": {},
   "outputs": [
    {
     "data": {
      "text/plain": [
       "('16.5', '2.64', '2021-11-01T19:15:00.000-06:00')"
      ]
     },
     "execution_count": 4,
     "metadata": {},
     "output_type": "execute_result"
    }
   ],
   "source": [
    "headwaters.values"
   ]
  },
  {
   "cell_type": "code",
   "execution_count": 6,
   "id": "569d9002-a5fc-42bf-80ad-0fde2147bcbc",
   "metadata": {},
   "outputs": [],
   "source": [
    "site_code = '07083000'\n",
    "param_codes = ['00060','00065']\n",
    "site_3000 = StreamSensor(site_code, param_codes)"
   ]
  },
  {
   "cell_type": "code",
   "execution_count": 7,
   "id": "3659eea6-55ab-4b87-a29b-abbe8aa8621d",
   "metadata": {},
   "outputs": [
    {
     "data": {
      "text/plain": [
       "('-999999', '-999999', '2021-11-01T18:30:00.000-06:00')"
      ]
     },
     "execution_count": 7,
     "metadata": {},
     "output_type": "execute_result"
    }
   ],
   "source": [
    "site_3000.values"
   ]
  },
  {
   "cell_type": "code",
   "execution_count": 11,
   "id": "c2dc108e-35e3-44e4-ae80-90e009478ab6",
   "metadata": {},
   "outputs": [],
   "source": [
    "import requests\n",
    "res = requests.get(\"https://waterservices.usgs.gov/nwis/iv/?format=json&sites=07079300&startDT=2000-12-31T00:00-0600&endDT=2020-12-31T00:00-0600&parameterCd=00060,00065&siteType=OC-CO&siteStatus=all\")"
   ]
  },
  {
   "cell_type": "code",
   "execution_count": 14,
   "id": "360a9ce4-6e6f-4557-a3dd-3c96fff06f70",
   "metadata": {},
   "outputs": [
    {
     "data": {
      "text/plain": [
       "b'{\"name\":\"ns1:timeSeriesResponseType\",\"declaredType\":\"org.cuahsi.waterml.TimeSeriesResponseType\",\"scope\":\"javax.xml.bind.JAXBElement$GlobalScope\",\"value\":{\"queryInfo\":{\"queryURL\":\"http://nwis.waterservices.usgs.gov/nwis/iv/format=json&sites=07079300&startDT=2000-12-31T00:00-0600&endDT=2020-12-31T00:00-0600&parameterCd=00060,00065&siteType=OC-CO&siteStatus=all\",\"criteria\":{\"locationParam\":\"[ALL:07079300]\",\"variableParam\":\"[00060, 00065]\",\"timeParam\":{\"beginDateTime\":\"2000-12-31T06:00:00.000\",\"endDateTime\":\"2020-12-31T06:00:00.000\"},\"parameter\":[]},\"note\":[{\"value\":\"[ALL:07079300]\",\"title\":\"filter:sites\"},{\"value\":\"[OC-CO]\",\"title\":\"filter:siteType\"},{\"value\":\"[mode=RANGE, modifiedSince=null] interval={INTERVAL[2000-12-31T06:00:00.000Z/2020-12-31T06:00:00.000Z]}\",\"title\":\"filter:timeRange\"},{\"value\":\"methodIds=[ALL]\",\"title\":\"filter:methodId\"},{\"value\":\"2021-11-02T01:37:14.752Z\",\"title\":\"requestDT\"},{\"value\":\"683e58f0-3b7d-11ec-a886-4cd98f86fad9\",\"title\":\"requestId\"},{\"value\":\"Provisional data are subject to revision. Go to http://waterdata.usgs.gov/nwis/help/?provisional for more information.\",\"title\":\"disclaimer\"},{\"value\":\"nadww02\",\"title\":\"server\"}]},\"timeSeries\":[]},\"nil\":false,\"globalScope\":true,\"typeSubstituted\":false}'"
      ]
     },
     "execution_count": 14,
     "metadata": {},
     "output_type": "execute_result"
    }
   ],
   "source": [
    "res.content"
   ]
  },
  {
   "cell_type": "code",
   "execution_count": 73,
   "id": "3d3df1fc-81d2-4766-b50a-ed23093f4e8a",
   "metadata": {},
   "outputs": [],
   "source": []
  },
  {
   "cell_type": "code",
   "execution_count": null,
   "id": "f27146f0-9a7d-496c-a9af-9b13b39dcb18",
   "metadata": {},
   "outputs": [],
   "source": []
  }
 ],
 "metadata": {
  "kernelspec": {
   "display_name": "Python 3",
   "language": "python",
   "name": "python3"
  },
  "language_info": {
   "codemirror_mode": {
    "name": "ipython",
    "version": 3
   },
   "file_extension": ".py",
   "mimetype": "text/x-python",
   "name": "python",
   "nbconvert_exporter": "python",
   "pygments_lexer": "ipython3",
   "version": "3.8.8"
  }
 },
 "nbformat": 4,
 "nbformat_minor": 5
}
